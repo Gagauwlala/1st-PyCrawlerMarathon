{
  "nbformat": 4,
  "nbformat_minor": 0,
  "metadata": {
    "colab": {
      "name": "D001_HW.ipynb",
      "provenance": [],
      "collapsed_sections": [],
      "toc_visible": true
    },
    "kernelspec": {
      "name": "python3",
      "display_name": "Python 3"
    }
  },
  "cells": [
    {
      "cell_type": "markdown",
      "metadata": {
        "id": "VgeHTfcRWU49",
        "colab_type": "text"
      },
      "source": [
        "#作業目標\n"
      ]
    },
    {
      "cell_type": "markdown",
      "metadata": {
        "id": "oEaWrIJ2TKfk",
        "colab_type": "text"
      },
      "source": [
        "\n",
        "#1.（簡答題）檔案、API、爬蟲三種取得資料方式有什麼不同？\n",
        "\n",
        "\n"
      ]
    },
    {
      "cell_type": "markdown",
      "metadata": {
        "id": "njgB8yn7UTxW",
        "colab_type": "text"
      },
      "source": [
        "##ANS:資料會包成檔案提供下載，接口可以透過程式介面提供程式設計師利用程式下載，爬蟲則是程式設計師寫的程式將網頁的資料下載"
      ]
    },
    {
      "cell_type": "markdown",
      "metadata": {
        "id": "V2Jo7n1vTPR1",
        "colab_type": "text"
      },
      "source": [
        "#2.（實作）完成一個程式，需滿足下列需求：\n",
        "\n",
        "檢查 Data 資料夾是否有 Homework.txt 檔名之檔案  \n",
        "將「Hello World」字串覆寫到 Homework.txt 檔案  \n",
        "檢查 Homework.txt 檔案字數是否符合 Hello World 字數  "
      ]
    },
    {
      "cell_type": "markdown",
      "metadata": {
        "id": "X1vNRiDZaea3",
        "colab_type": "text"
      },
      "source": [
        "##下載指定檔案到 Data 資料夾，存成檔名 Homework.txt"
      ]
    },
    {
      "cell_type": "code",
      "metadata": {
        "id": "2cqHUjW1aSBq",
        "colab_type": "code",
        "colab": {
          "base_uri": "https://localhost:8080/",
          "height": 34
        },
        "outputId": "9e3f1560-0b10-4996-b985-8d4241747876"
      },
      "source": [
        "from urllib.request import urlretrieve\n",
        "\n",
        "urlretrieve(\"https://www.w3.org/TR/PNG/iso_8859-1.txt\",'Homework.txt')"
      ],
      "execution_count": 20,
      "outputs": [
        {
          "output_type": "execute_result",
          "data": {
            "text/plain": [
              "('Homework.txt', <http.client.HTTPMessage at 0x7f4907a224a8>)"
            ]
          },
          "metadata": {
            "tags": []
          },
          "execution_count": 20
        }
      ]
    },
    {
      "cell_type": "markdown",
      "metadata": {
        "id": "xWKHY576aTOL",
        "colab_type": "text"
      },
      "source": [
        "##檢查 Data 資料夾是否有 Homework.txt 檔名之檔案"
      ]
    },
    {
      "cell_type": "markdown",
      "metadata": {
        "id": "-qJwk8LLSWSD",
        "colab_type": "text"
      },
      "source": [
        "檢查 Data 資料夾是否有 Homework.txt 檔名之檔案 \n"
      ]
    },
    {
      "cell_type": "code",
      "metadata": {
        "id": "YrqqvBFCSAD5",
        "colab_type": "code",
        "colab": {
          "base_uri": "https://localhost:8080/",
          "height": 51
        },
        "outputId": "f4f59972-5088-4c4e-fa9e-67bb1a4fa76b"
      },
      "source": [
        "import os \n",
        "fileList=os.listdir('./')\n",
        "#print(fileList)\n",
        "\n",
        "for fileName in fileList:\n",
        "  if(fileName == 'Homework.txt'):\n",
        "      print('Homework.txt exist')\n",
        "      "
      ],
      "execution_count": 22,
      "outputs": [
        {
          "output_type": "stream",
          "text": [
            "['.config', 'Homework.txt', 'sample_data']\n",
            "Homework.txt exist\n"
          ],
          "name": "stdout"
        }
      ]
    },
    {
      "cell_type": "markdown",
      "metadata": {
        "id": "HlUA9CAlcEOO",
        "colab_type": "text"
      },
      "source": [
        "##將「Hello World」字串覆寫到 Homework.txt 檔案"
      ]
    },
    {
      "cell_type": "code",
      "metadata": {
        "id": "8dpd1rw2cHIW",
        "colab_type": "code",
        "colab": {
          "base_uri": "https://localhost:8080/",
          "height": 34
        },
        "outputId": "7945a23d-48e4-49c4-9897-17e435dc6324"
      },
      "source": [
        "#with open('Homework.txt','r') as fh:\n",
        " #   for line in fh.readlines():\n",
        "  #      print(line)\n",
        "\n",
        "with open('Homework.txt','w') as fh:\n",
        "    fh.write('Hello World')\n",
        "\n",
        "with open('Homework.txt','r') as fh:\n",
        "    for line in fh.readlines():\n",
        "        print(line)    "
      ],
      "execution_count": 26,
      "outputs": [
        {
          "output_type": "stream",
          "text": [
            "Hello World\n"
          ],
          "name": "stdout"
        }
      ]
    },
    {
      "cell_type": "markdown",
      "metadata": {
        "id": "hk7QgRLffwtq",
        "colab_type": "text"
      },
      "source": [
        "##檢查 Homework.txt 檔案字數是否符合 Hello World 字數"
      ]
    },
    {
      "cell_type": "code",
      "metadata": {
        "id": "KqGL--k3gjjW",
        "colab_type": "code",
        "colab": {
          "base_uri": "https://localhost:8080/",
          "height": 34
        },
        "outputId": "d903c48b-ba3d-47e4-9c68-c45f73547472"
      },
      "source": [
        "StrLength = len('Hello World')\n",
        "#print(StrLength)\n",
        "\n",
        "fileStrLength=0\n",
        "with open('Homework.txt','r') as fh:\n",
        "    for line in fh.readlines():\n",
        "      fileStrLength=len(line)\n",
        "    #print(fileStrLength)\n",
        "\n",
        "if(StrLength == fileStrLength):\n",
        "  print('Homework.txt檔案字數符合 Hello World 字數')"
      ],
      "execution_count": 36,
      "outputs": [
        {
          "output_type": "stream",
          "text": [
            "Homework.txt檔案字數符合 Hello World 字數\n"
          ],
          "name": "stdout"
        }
      ]
    }
  ]
}